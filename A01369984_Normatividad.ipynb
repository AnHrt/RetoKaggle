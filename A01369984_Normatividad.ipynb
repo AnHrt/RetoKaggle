{
 "cells": [
  {
   "cell_type": "markdown",
   "metadata": {},
   "source": [
    "# **Inteligencia artificial avanzada para la ciencia de datos**\n",
    "*TC3006*\n",
    "\n",
    "##### *Actividad: Análisis del contexto y la normatividad* / *SEPTIEMBRE 2022*\n",
    "\n",
    "> ***María de los Angeles Arista Huerta - A01369984***\n",
    "\n",
    "\n"
   ]
  },
  {
   "cell_type": "markdown",
   "metadata": {},
   "source": [
    "Título del Dataset: **Wine recognition data**\n",
    "\n",
    "Descargada a través de UC Irvine Machine Learning Repository:  \n",
    "> Enlace de acceso : *https://archive.ics.uci.edu/ml/index.php*\n",
    "\n",
    "Creada por el Institute of Pharmaceutical and Food Analysis and Technologies. Donador de información Stefan Aeberhard\n",
    "\n",
    "La base de datos consiste en resultados obtenido de pruebas químicas a vinos cultivados en la misma región de Italia, derivado de tres cultivares diferentes. Con la intensión de conocer su composición y analizar similitudes.\n",
    "\n",
    "Este analisis calcula la cantidad de 13 componentes encontrados en los tres tipos de vinos. Estos atributos son:\n",
    "\n",
    "1. \tAlcohol: Porcentaje de alcohol que contiene el vino.\n",
    "2.\tÁcido málico: Ácidos que se encuentran en la acidez de las uvas. Si hay demasiado, el vino tendrá un sabor agrio.\n",
    "3.\tCeniza:  Producto de la incineración del extracto seco del vino.\n",
    "4.\tAlcalinidad de ceniza: Suma de los cationes de amonio que se encuentran mezclados en los ácidos orgánicos del vino.\n",
    "5.\tMagnesio: La concentración de este mineral está relacionado con la estabilización del tartrato y el sabor ácido del vino.\n",
    "6.\tFenoles totales: Compuestos que infieren en el sabor y olor del vino.\n",
    "7.\tFlavonoides: Antioxidantes encontrados en el vino.\n",
    "8.\tFenoles no flavonoides: Compuestos que si entran en contacto con microorganismo son los responsables de generar compuestos que crean defectos en el vino\n",
    "9.\tProantocianidinas: Contribuyen al amargor y astringencia de los vinos.\n",
    "10.\tIntensidad del color: El color y la claridad define el estilo del vino.\n",
    "11.\tColor: Se puede establecer la edad, variedad de uva, densidad de sabor y acidez del vino.\n",
    "12.\tOD280/OD315 de vinos diluidos: indica pureza de proteínas.\n",
    "13.\tProlina: aminoácido que regula el sabor del vino.\n",
    "\n",
    "De acuerdo con lo establecido en la norma ISO / IEC DIS 20546; el análisis de datos se utiliza para comprender los objetos representados por los datos, hacer predicciones y/o investigación, entre otras acciones, acerca de una situación dada. Por ello considero que la implementación realizada, al basarse en un analisis del comportamiento de las características y compuestos del vino, para un caso de estudio, este conjunto de datos no interfiere con ningún sesgo ético.\n",
    "\n",
    "Un caso en el que podría incurrir en una falta ética es al implementar la herramienta de analisis para tomar decisiones en estándares de calidad y regulaciones del vino, debido a los componentes analizados. Puesto que el analisis es más inclinado a comprender el comportamiento de variables y estadística descriptiva, que a implementarlo en un dilema real de composición química.\n",
    "\n",
    "---\n",
    "**Normativa relacionada al tratamiento y analisis de datos**\n",
    "* \tISO / IEC DIS 20546:2019 Tecnología de información – Descripción general y vocabulario. \n",
    "\n",
    "> Enlace de consulta: *https://www.iso.org/standard/68305.html*\n",
    "\n",
    "Proporciona términos y definiciones para una mejor comprensión del área y establecer estándares relacionados con el campo de BigData.\n",
    "\n"
   ]
  }
 ],
 "metadata": {
  "language_info": {
   "name": "python"
  },
  "orig_nbformat": 4
 },
 "nbformat": 4,
 "nbformat_minor": 2
}
